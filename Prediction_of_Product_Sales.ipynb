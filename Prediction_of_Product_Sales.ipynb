{
  "nbformat": 4,
  "nbformat_minor": 0,
  "metadata": {
    "colab": {
      "provenance": [],
      "toc_visible": true,
      "authorship_tag": "ABX9TyNDNaai49hy++38mJrA725/",
      "include_colab_link": true
    },
    "kernelspec": {
      "name": "python3",
      "display_name": "Python 3"
    },
    "language_info": {
      "name": "python"
    }
  },
  "cells": [
    {
      "cell_type": "markdown",
      "metadata": {
        "id": "view-in-github",
        "colab_type": "text"
      },
      "source": [
        "<a href=\"https://colab.research.google.com/github/dina-masry/Prediction-of-Product-Sales/blob/main/Prediction_of_Product_Sales.ipynb\" target=\"_parent\"><img src=\"https://colab.research.google.com/assets/colab-badge.svg\" alt=\"Open In Colab\"/></a>"
      ]
    },
    {
      "cell_type": "markdown",
      "source": [
        "#Prediction of Product Sales"
      ],
      "metadata": {
        "id": "x7bVhPM1EUyd"
      }
    },
    {
      "cell_type": "code",
      "source": [
        "- Author: Dina-masry"
      ],
      "metadata": {
        "id": "_eztuxjK-7FZ"
      },
      "execution_count": null,
      "outputs": []
    },
    {
      "cell_type": "markdown",
      "source": [
        "##Project Overview"
      ],
      "metadata": {
        "id": "KCOJUZNIEhVo"
      }
    },
    {
      "cell_type": "code",
      "source": [],
      "metadata": {
        "id": "J_gFDC0-E03M"
      },
      "execution_count": null,
      "outputs": []
    },
    {
      "cell_type": "markdown",
      "source": [
        "##Load and Inspect Data"
      ],
      "metadata": {
        "id": "ocaLtJ1oEmy3"
      }
    },
    {
      "cell_type": "code",
      "source": [],
      "metadata": {
        "id": "Q4hg-fK1E-qA"
      },
      "execution_count": null,
      "outputs": []
    },
    {
      "cell_type": "markdown",
      "source": [
        "##Clean Data"
      ],
      "metadata": {
        "id": "to2u6jK5FLI1"
      }
    },
    {
      "cell_type": "code",
      "source": [],
      "metadata": {
        "id": "s-1gOe4dFVYF"
      },
      "execution_count": null,
      "outputs": []
    },
    {
      "cell_type": "markdown",
      "source": [
        "##Exploratory Data Analysis"
      ],
      "metadata": {
        "id": "t4IornbWFSEI"
      }
    },
    {
      "cell_type": "code",
      "source": [],
      "metadata": {
        "id": "LXL0wxrUFmgO"
      },
      "execution_count": null,
      "outputs": []
    },
    {
      "cell_type": "markdown",
      "source": [
        "##Feature Inspection"
      ],
      "metadata": {
        "id": "bqJjwAPWFedK"
      }
    },
    {
      "cell_type": "code",
      "source": [],
      "metadata": {
        "id": "lkhrKQlT_DFV"
      },
      "execution_count": null,
      "outputs": []
    }
  ]
}