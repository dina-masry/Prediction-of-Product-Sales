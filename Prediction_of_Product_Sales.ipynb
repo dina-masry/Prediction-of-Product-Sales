{
  "nbformat": 4,
  "nbformat_minor": 0,
  "metadata": {
    "colab": {
      "provenance": [],
      "authorship_tag": "ABX9TyPGE92QMwZJdXpy68EYB0Eq",
      "include_colab_link": true
    },
    "kernelspec": {
      "name": "python3",
      "display_name": "Python 3"
    },
    "language_info": {
      "name": "python"
    }
  },
  "cells": [
    {
      "cell_type": "markdown",
      "metadata": {
        "id": "view-in-github",
        "colab_type": "text"
      },
      "source": [
        "<a href=\"https://colab.research.google.com/github/dina-masry/Prediction-of-Product-Sales/blob/main/Prediction_of_Product_Sales.ipynb\" target=\"_parent\"><img src=\"https://colab.research.google.com/assets/colab-badge.svg\" alt=\"Open In Colab\"/></a>"
      ]
    },
    {
      "cell_type": "code",
      "execution_count": 2,
      "metadata": {
        "colab": {
          "base_uri": "https://localhost:8080/"
        },
        "id": "u4GNtDMD-Duf",
        "outputId": "00db0ebf-432a-4e77-f2d8-1210b4124bd4"
      },
      "outputs": [
        {
          "output_type": "stream",
          "name": "stdout",
          "text": [
            "Writing Readme.md\n"
          ]
        }
      ],
      "source": [
        "%%writefile Readme.md\n",
        "#Prediction of Product Sales\n",
        "- Author: Dina-masry\n",
        "##Project Overview\n",
        "##Load and Inspect Data\n",
        "##Clean Data\n",
        "##Exploratory Data Analysis\n",
        "##Feature Inspection"
      ]
    },
    {
      "cell_type": "code",
      "source": [],
      "metadata": {
        "id": "_eztuxjK-7FZ"
      },
      "execution_count": null,
      "outputs": []
    },
    {
      "cell_type": "code",
      "source": [],
      "metadata": {
        "id": "nNmOoVPz--Wx"
      },
      "execution_count": null,
      "outputs": []
    },
    {
      "cell_type": "code",
      "source": [],
      "metadata": {
        "id": "lkhrKQlT_DFV"
      },
      "execution_count": null,
      "outputs": []
    },
    {
      "cell_type": "code",
      "source": [],
      "metadata": {
        "id": "hZ6D0O38_KA4"
      },
      "execution_count": null,
      "outputs": []
    },
    {
      "cell_type": "code",
      "source": [],
      "metadata": {
        "id": "i51oGfkH_S3B"
      },
      "execution_count": null,
      "outputs": []
    }
  ]
}